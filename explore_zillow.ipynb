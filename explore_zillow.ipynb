{
 "cells": [
  {
   "cell_type": "markdown",
   "id": "7c8a6ad7",
   "metadata": {},
   "source": [
    "look for. . .\n",
    "\n",
    "– scale—are all features measured on the same scale?\n",
    "\n",
    "– units—do we know how to interpret the numbers?\n",
    "\n",
    "– range—are values capped?\n",
    "\n",
    "– shape of distributions—long tails?\n",
    "\n",
    "- suppose that we have reason to believe that median income strongly correlated with median housing price"
   ]
  },
  {
   "cell_type": "code",
   "execution_count": null,
   "id": "ead67599",
   "metadata": {},
   "outputs": [],
   "source": [
    "df="
   ]
  },
  {
   "cell_type": "code",
   "execution_count": null,
   "id": "190e66fa",
   "metadata": {},
   "outputs": [],
   "source": [
    "pd.plotting.scatter_matrix(df_slice, alpha=0.2)"
   ]
  }
 ],
 "metadata": {
  "kernelspec": {
   "display_name": "Python 3 (ipykernel)",
   "language": "python",
   "name": "python3"
  },
  "language_info": {
   "codemirror_mode": {
    "name": "ipython",
    "version": 3
   },
   "file_extension": ".py",
   "mimetype": "text/x-python",
   "name": "python",
   "nbconvert_exporter": "python",
   "pygments_lexer": "ipython3",
   "version": "3.9.15"
  }
 },
 "nbformat": 4,
 "nbformat_minor": 5
}
