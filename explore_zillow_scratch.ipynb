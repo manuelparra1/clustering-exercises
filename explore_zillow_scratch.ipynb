{
 "cells": [
  {
   "cell_type": "markdown",
   "id": "00640652",
   "metadata": {},
   "source": [
    "# Exploratory Analysis"
   ]
  },
  {
   "cell_type": "code",
   "execution_count": 1,
   "id": "9e19dfbd",
   "metadata": {},
   "outputs": [],
   "source": [
    "import numpy as np\n",
    "import pandas as pd\n",
    "\n",
    "from env import *\n",
    "from wrangle import *"
   ]
  },
  {
   "cell_type": "markdown",
   "id": "d8858941",
   "metadata": {},
   "source": [
    "> Ideas\n",
    "\n",
    "look for. . .\n",
    "\n",
    "– scale—are all features measured on the same scale?\n",
    "\n",
    "– units—do we know how to interpret the numbers?\n",
    "\n",
    "– range—are values capped?\n",
    "\n",
    "– shape of distributions—long tails?\n",
    "\n",
    "- suppose that we have reason to believe that median income strongly correlated with median housing price"
   ]
  },
  {
   "cell_type": "markdown",
   "id": "66fd0b29",
   "metadata": {},
   "source": [
    "## Exercises"
   ]
  },
  {
   "cell_type": "markdown",
   "id": "cbd1e6de",
   "metadata": {},
   "source": [
    "### 1. Ask at least 5 questions about the data, keeping in mind that your target variable is logerror. e.g. Is logerror significantly different for properties in LA County vs Orange County vs Ventura County?"
   ]
  },
  {
   "cell_type": "markdown",
   "id": "94632744",
   "metadata": {},
   "source": [
    "### `target = logerror`"
   ]
  },
  {
   "cell_type": "code",
   "execution_count": 17,
   "id": "3c982cb7",
   "metadata": {},
   "outputs": [
    {
     "data": {
      "text/plain": [
       "Index(['parcelid', 'id', 'bathroom_count', 'bedroom_count',\n",
       "       'calculated_finished_square_feet', 'finished_square_feet_12', 'fips',\n",
       "       'full_bath_count', 'latitude', 'longitude', 'lot_size_square_feet',\n",
       "       'property_county_landuse_code', 'property_land_use_type_id',\n",
       "       'raw_census_tract_and_block', 'region_id_city', 'region_id_county',\n",
       "       'region_id_zip', 'room_count', 'year_built',\n",
       "       'structure_taxvalue_dollarcount', 'tax_valuedollar_count',\n",
       "       'assessment_year', 'land_tax_value_dollar_count', 'tax_amount',\n",
       "       'census_tract_and_block', 'id_1', 'log_error', 'transaction_date',\n",
       "       'bed_bath_count'],\n",
       "      dtype='object')"
      ]
     },
     "execution_count": 17,
     "metadata": {},
     "output_type": "execute_result"
    }
   ],
   "source": [
    "df.columns"
   ]
  },
  {
   "cell_type": "code",
   "execution_count": null,
   "id": "859940b5",
   "metadata": {},
   "outputs": [],
   "source": [
    "df = wrangle_zillow()"
   ]
  },
  {
   "cell_type": "code",
   "execution_count": null,
   "id": "9c4c2532",
   "metadata": {},
   "outputs": [],
   "source": [
    "def train_val_test_split(df, target_variable):\n",
    "    df_copy = df.copy()\n",
    "    X = df_copy.drop(target_variable, axis=1)\n",
    "    y = df_copy[target_variable]\n",
    "    \n",
    "    X_train, X_test, y_train, y_test = train_test_split(X, y, test_size=0.2, random_state=42, stratify=y)\n",
    "    X_train, X_val, y_train, y_val = train_test_split(X_train, y_train, test_size=0.2, random_state=42, stratify=y_train)\n",
    "    \n",
    "    train_df = pd.concat([X_train, y_train], axis=1)\n",
    "    val_df = pd.concat([X_val, y_val], axis=1)\n",
    "    test_df = pd.concat([X_test, y_test], axis=1)\n",
    "\n",
    "    return train_df, val_df, test_df"
   ]
  },
  {
   "cell_type": "code",
   "execution_count": null,
   "id": "4b7e771c",
   "metadata": {},
   "outputs": [],
   "source": [
    "target = 'log_error'\n",
    "train, test = train_test_split(df, stratify=df[target], test_size=0.2)"
   ]
  },
  {
   "cell_type": "code",
   "execution_count": null,
   "id": "94eefd27",
   "metadata": {},
   "outputs": [],
   "source": [
    "X_train, X_test, y_train, y_test = train_test_split(\n",
    "    df.drop(stratify_column, axis=1),\n",
    "    df[stratify_column],\n",
    "    stratify=df[stratify_column],\n",
    "    test_size=0.2\n",
    ")"
   ]
  },
  {
   "cell_type": "code",
   "execution_count": 14,
   "id": "dd16b8f3",
   "metadata": {},
   "outputs": [],
   "source": [
    "fips_dict = {'06037':'Los Angeles County','06111':'Ventura County','06059':'Orange County'}"
   ]
  },
  {
   "cell_type": "code",
   "execution_count": null,
   "id": "c188bb4e",
   "metadata": {},
   "outputs": [],
   "source": [
    "# 1. \n",
    "\n",
    "# 2. \n",
    "\n",
    "# 3. \n",
    "\n",
    "# 4. \n",
    "\n",
    "# 5. "
   ]
  },
  {
   "cell_type": "markdown",
   "id": "dc0beed0",
   "metadata": {},
   "source": [
    "### 2. Answer those questions through a mix of statistical tests and visualizations"
   ]
  },
  {
   "cell_type": "code",
   "execution_count": 19,
   "id": "a466b928",
   "metadata": {},
   "outputs": [
    {
     "data": {
      "text/plain": [
       "Index(['parcelid', 'id', 'bathroom_count', 'bedroom_count',\n",
       "       'calculated_finished_square_feet', 'finished_square_feet_12', 'fips',\n",
       "       'full_bath_count', 'latitude', 'longitude', 'lot_size_square_feet',\n",
       "       'property_county_landuse_code', 'property_land_use_type_id',\n",
       "       'raw_census_tract_and_block', 'region_id_city', 'region_id_county',\n",
       "       'region_id_zip', 'room_count', 'year_built',\n",
       "       'structure_taxvalue_dollarcount', 'tax_valuedollar_count',\n",
       "       'assessment_year', 'land_tax_value_dollar_count', 'tax_amount',\n",
       "       'census_tract_and_block', 'id_1', 'log_error', 'transaction_date',\n",
       "       'bed_bath_count'],\n",
       "      dtype='object')"
      ]
     },
     "execution_count": 19,
     "metadata": {},
     "output_type": "execute_result"
    }
   ],
   "source": [
    "df.columns"
   ]
  },
  {
   "cell_type": "markdown",
   "id": "b41fee49",
   "metadata": {},
   "source": [
    "What is the average calculated square footage of the houses?\n",
    "\n",
    "What is the average number of bedrooms per house?\n",
    "\n",
    "What is the average number of bathrooms per house?\n",
    "\n",
    "What is the median lot size for the houses?\n",
    "\n",
    "What is the mean tax value for the houses?\n",
    "\n",
    "What is the median room count for the houses?\n",
    "\n",
    "What is the average year built for the houses?\n",
    "\n",
    "How do the structure tax values differ by county? \n",
    "\n",
    "What is the average latitude and longitude of the houses?\n",
    "\n",
    "How does the assessed tax value of a house relate to its land tax value?\n",
    "\n",
    "    How does the bed_bath_count of a property relate to its log_error?\n",
    "    Are properties with more bathrooms more likely to have a higher or lower log_error?\n",
    "    Is there a correlation between the tax_valuedollar_count and log_error?\n",
    "    Is there a relationship between the year_built of a property and its log_error?\n",
    "    How does the square_feet of a property relate to its log_error?\n",
    "    Are properties in certain locations more likely to have a higher or lower log_error?\n",
    "    Are properties with bigger square feet have more or less log_error?\n",
    "    Is there a relationship between the bed_bath_count, bathroom_count, and square_feet with log_error?"
   ]
  },
  {
   "cell_type": "code",
   "execution_count": null,
   "id": "0e65cb44",
   "metadata": {},
   "outputs": [],
   "source": [
    "# Correlation of `columns` to "
   ]
  },
  {
   "cell_type": "code",
   "execution_count": 23,
   "id": "fc909657",
   "metadata": {},
   "outputs": [
    {
     "data": {
      "text/plain": [
       "Index(['parcelid', 'id', 'bathroom_count', 'bedroom_count',\n",
       "       'calculated_finished_square_feet', 'finished_square_feet_12', 'fips',\n",
       "       'full_bath_count', 'latitude', 'longitude', 'lot_size_square_feet',\n",
       "       'property_county_landuse_code', 'property_land_use_type_id',\n",
       "       'raw_census_tract_and_block', 'region_id_city', 'region_id_county',\n",
       "       'region_id_zip', 'room_count', 'year_built',\n",
       "       'structure_taxvalue_dollarcount', 'tax_valuedollar_count',\n",
       "       'assessment_year', 'land_tax_value_dollar_count', 'tax_amount',\n",
       "       'census_tract_and_block', 'id_1', 'log_error', 'transaction_date',\n",
       "       'bed_bath_count'],\n",
       "      dtype='object')"
      ]
     },
     "execution_count": 23,
     "metadata": {},
     "output_type": "execute_result"
    }
   ],
   "source": [
    "df.columns"
   ]
  },
  {
   "cell_type": "code",
   "execution_count": 34,
   "id": "3aa1cb80",
   "metadata": {},
   "outputs": [
    {
     "data": {
      "text/plain": [
       "bathroom_count                     0.035153\n",
       "bathroom_count                     0.035153\n",
       "calculated_finished_square_feet    0.038331\n",
       "log_error                          1.000000\n",
       "Name: log_error, dtype: float64"
      ]
     },
     "execution_count": 34,
     "metadata": {},
     "output_type": "execute_result"
    }
   ],
   "source": [
    "df[['bathroom_count', 'bathroom_count', 'calculated_finished_square_feet','log_error']].corr()['log_error']"
   ]
  },
  {
   "cell_type": "code",
   "execution_count": 30,
   "id": "56d78cb3",
   "metadata": {},
   "outputs": [
    {
     "name": "stdout",
     "output_type": "stream",
     "text": [
      "log_error                          1.000000\n",
      "bed_bath_count                     0.039927\n",
      "calculated_finished_square_feet    0.038331\n",
      "finished_square_feet_12            0.038331\n",
      "bedroom_count                      0.037266\n",
      "bathroom_count                     0.035153\n",
      "full_bath_count                    0.033012\n",
      "longitude                          0.025616\n",
      "year_built                         0.020531\n",
      "room_count                         0.015448\n",
      "parcelid                           0.012900\n",
      "raw_census_tract_and_block         0.008476\n",
      "region_id_city                     0.007588\n",
      "lot_size_square_feet               0.007363\n",
      "census_tract_and_block             0.005331\n",
      "structure_taxvalue_dollarcount     0.004525\n",
      "region_id_zip                      0.002945\n",
      "id                                 0.001980\n",
      "id_1                               0.001687\n",
      "tax_valuedollar_count             -0.002449\n",
      "tax_amount                        -0.004613\n",
      "land_tax_value_dollar_count       -0.005537\n",
      "latitude                          -0.020820\n",
      "region_id_county                  -0.027932\n",
      "property_land_use_type_id               NaN\n",
      "assessment_year                         NaN\n",
      "Name: log_error, dtype: float64\n"
     ]
    }
   ],
   "source": [
    "correlation = df.corr()\n",
    "print(correlation['log_error'].sort_values(ascending=False))"
   ]
  },
  {
   "cell_type": "code",
   "execution_count": 28,
   "id": "bc313dcc",
   "metadata": {},
   "outputs": [
    {
     "data": {
      "image/png": "[encoded data removed]",
      "text/plain": [
       "<Figure size 250x750 with 3 Axes>"
      ]
     },
     "metadata": {},
     "output_type": "display_data"
    }
   ],
   "source": [
    "sns.pairplot(df, y_vars=['bed_bath_count', 'bathroom_count', 'calculated_finished_square_feet'], x_vars='log_error')\n",
    "plt.show()"
   ]
  },
  {
   "cell_type": "code",
   "execution_count": 21,
   "id": "486c5da2",
   "metadata": {},
   "outputs": [
    {
     "data": {
      "text/plain": [
       "log_error                          1.000000\n",
       "bed_bath_count                     0.039927\n",
       "calculated_finished_square_feet    0.038331\n",
       "finished_square_feet_12            0.038331\n",
       "bedroom_count                      0.037266\n",
       "bathroom_count                     0.035153\n",
       "full_bath_count                    0.033012\n",
       "longitude                          0.025616\n",
       "year_built                         0.020531\n",
       "room_count                         0.015448\n",
       "parcelid                           0.012900\n",
       "raw_census_tract_and_block         0.008476\n",
       "region_id_city                     0.007588\n",
       "lot_size_square_feet               0.007363\n",
       "census_tract_and_block             0.005331\n",
       "structure_taxvalue_dollarcount     0.004525\n",
       "region_id_zip                      0.002945\n",
       "id                                 0.001980\n",
       "id_1                               0.001687\n",
       "tax_valuedollar_count             -0.002449\n",
       "tax_amount                        -0.004613\n",
       "land_tax_value_dollar_count       -0.005537\n",
       "latitude                          -0.020820\n",
       "region_id_county                  -0.027932\n",
       "property_land_use_type_id               NaN\n",
       "assessment_year                         NaN\n",
       "dtype: float64"
      ]
     },
     "execution_count": 21,
     "metadata": {},
     "output_type": "execute_result"
    }
   ],
   "source": [
    "df.corrwith(df.log_error).sort_values(ascending=False)"
   ]
  },
  {
   "cell_type": "markdown",
   "id": "df5ca684",
   "metadata": {},
   "source": [
    "#### - 1. \n",
    "$H{0}$: There is no correlation\n",
    "\n",
    "$H{A}$: There is a correlation"
   ]
  },
  {
   "cell_type": "markdown",
   "id": "bb6f758b",
   "metadata": {},
   "source": [
    "#### - 2. \n",
    "$H{0}$: There is no correlation\n",
    "\n",
    "$H{A}$: There is a correlation"
   ]
  },
  {
   "cell_type": "markdown",
   "id": "8e645870",
   "metadata": {},
   "source": [
    "#### - 3. \n",
    "$H{0}$: There is no correlation\n",
    "\n",
    "$H{A}$: There is a correlation"
   ]
  },
  {
   "cell_type": "markdown",
   "id": "e908907a",
   "metadata": {},
   "source": [
    "#### - 4. \n",
    "$H{0}$: There is no correlation\n",
    "\n",
    "$H{A}$: There is a correlation"
   ]
  },
  {
   "cell_type": "markdown",
   "id": "c8374ce5",
   "metadata": {},
   "source": [
    "#### - 5. \n",
    "$H{0}$: There is no correlation\n",
    "\n",
    "$H{A}$: There is a correlation"
   ]
  },
  {
   "cell_type": "code",
   "execution_count": null,
   "id": "54f4d73c",
   "metadata": {},
   "outputs": [],
   "source": [
    "pd.plotting.scatter_matrix(df_slice, alpha=0.2)"
   ]
  }
 ],
 "metadata": {
  "kernelspec": {
   "display_name": "Python 3 (ipykernel)",
   "language": "python",
   "name": "python3"
  },
  "language_info": {
   "codemirror_mode": {
    "name": "ipython",
    "version": 3
   },
   "file_extension": ".py",
   "mimetype": "text/x-python",
   "name": "python",
   "nbconvert_exporter": "python",
   "pygments_lexer": "ipython3",
   "version": "3.9.15"
  }
 },
 "nbformat": 4,
 "nbformat_minor": 5
}
