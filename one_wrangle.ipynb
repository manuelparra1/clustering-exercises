{
 "cells": [
  {
   "cell_type": "code",
   "execution_count": 1,
   "id": "355aea37",
   "metadata": {},
   "outputs": [],
   "source": [
    "import numpy as np\n",
    "import pandas as pd\n",
    "import matplotlib.pyplot as plt\n",
    "\n",
    "from env import *\n",
    "from wrangle import *\n",
    "import re\n",
    "\n",
    "import wordninja"
   ]
  },
  {
   "cell_type": "markdown",
   "id": "1a2aefe5",
   "metadata": {},
   "source": [
    "# Get Data"
   ]
  },
  {
   "cell_type": "code",
   "execution_count": 2,
   "id": "9f83114f",
   "metadata": {
    "scrolled": true
   },
   "outputs": [
    {
     "name": "stdout",
     "output_type": "stream",
     "text": [
      "Reading CSV\n"
     ]
    }
   ],
   "source": [
    "sql_db = \"zillow\"\n",
    "query = \"SELECT * FROM properties_2017 JOIN predictions_2017 USING(parcelid) WHERE (`propertylandusetypeid` = 261) & (YEAR(`transactiondate`) = 2017);\"\n",
    "df = get_data(sql_db,query)"
   ]
  },
  {
   "cell_type": "markdown",
   "id": "fd13b452",
   "metadata": {},
   "source": [
    "# Clean Data"
   ]
  },
  {
   "cell_type": "markdown",
   "id": "02f5eebf",
   "metadata": {},
   "source": [
    "### Nulls"
   ]
  },
  {
   "cell_type": "code",
   "execution_count": null,
   "id": "d480d1ee",
   "metadata": {},
   "outputs": [],
   "source": [
    "df.isnull().sum()"
   ]
  },
  {
   "cell_type": "code",
   "execution_count": 4,
   "id": "c9faf3a5",
   "metadata": {},
   "outputs": [],
   "source": [
    "df = handle_missing_values(df,.7,.99)"
   ]
  },
  {
   "cell_type": "code",
   "execution_count": 5,
   "id": "ba8aa7de",
   "metadata": {},
   "outputs": [
    {
     "data": {
      "text/plain": [
       "parcelid                        0\n",
       "id                              0\n",
       "bathroomcnt                     0\n",
       "bedroomcnt                      0\n",
       "calculatedbathnbr               0\n",
       "calculatedfinishedsquarefeet    0\n",
       "finishedsquarefeet12            0\n",
       "fips                            0\n",
       "fullbathcnt                     0\n",
       "latitude                        0\n",
       "longitude                       0\n",
       "lotsizesquarefeet               0\n",
       "propertycountylandusecode       0\n",
       "propertylandusetypeid           0\n",
       "rawcensustractandblock          0\n",
       "regionidcity                    0\n",
       "regionidcounty                  0\n",
       "regionidzip                     0\n",
       "roomcnt                         0\n",
       "yearbuilt                       0\n",
       "structuretaxvaluedollarcnt      0\n",
       "taxvaluedollarcnt               0\n",
       "assessmentyear                  0\n",
       "landtaxvaluedollarcnt           0\n",
       "taxamount                       0\n",
       "censustractandblock             0\n",
       "id.1                            0\n",
       "logerror                        0\n",
       "transactiondate                 0\n",
       "dtype: int64"
      ]
     },
     "execution_count": 5,
     "metadata": {},
     "output_type": "execute_result"
    }
   ],
   "source": [
    "df.isnull().sum()"
   ]
  },
  {
   "cell_type": "code",
   "execution_count": 6,
   "id": "c91e74a7",
   "metadata": {},
   "outputs": [
    {
     "data": {
      "text/plain": [
       "Index(['parcelid', 'id', 'bathroomcnt', 'bedroomcnt', 'calculatedbathnbr',\n",
       "       'calculatedfinishedsquarefeet', 'finishedsquarefeet12', 'fips',\n",
       "       'fullbathcnt', 'latitude', 'longitude', 'lotsizesquarefeet',\n",
       "       'propertycountylandusecode', 'propertylandusetypeid',\n",
       "       'rawcensustractandblock', 'regionidcity', 'regionidcounty',\n",
       "       'regionidzip', 'roomcnt', 'yearbuilt', 'structuretaxvaluedollarcnt',\n",
       "       'taxvaluedollarcnt', 'assessmentyear', 'landtaxvaluedollarcnt',\n",
       "       'taxamount', 'censustractandblock', 'id.1', 'logerror',\n",
       "       'transactiondate'],\n",
       "      dtype='object')"
      ]
     },
     "execution_count": 6,
     "metadata": {},
     "output_type": "execute_result"
    }
   ],
   "source": [
    "df.columns"
   ]
  },
  {
   "cell_type": "markdown",
   "id": "6704b777",
   "metadata": {},
   "source": [
    "### Outliers"
   ]
  },
  {
   "cell_type": "code",
   "execution_count": 7,
   "id": "faff002a",
   "metadata": {},
   "outputs": [],
   "source": [
    "def get_upper_outliers(s, k):\n",
    "    '''\n",
    "    Given a series and a cutoff value, k, returns the upper outliers for the\n",
    "    series.\n",
    "\n",
    "    The values returned will be either 0 (if the point is not an outlier), or a\n",
    "    number that indicates how far away from the upper bound the observation is.\n",
    "    '''\n",
    "    q1, q3 = s.quantile([.25, .75])\n",
    "    iqr = q3 - q1\n",
    "    upper_bound = q3 + k * iqr\n",
    "    return s.apply(lambda x: max([x - upper_bound, 0]))"
   ]
  },
  {
   "cell_type": "code",
   "execution_count": 8,
   "id": "4c477356",
   "metadata": {},
   "outputs": [],
   "source": [
    "def get_lower_outliers(s, k):\n",
    "    '''\n",
    "    Given a series and a cutoff value, k, returns the lower outliers for the\n",
    "    series.\n",
    "\n",
    "    The values returned will be either 0 (if the point is not an outlier), or a\n",
    "    number that indicates how far away from the lower bound the observation is.\n",
    "    '''\n",
    "    q1, q3 = s.quantile([.25, .75])\n",
    "    iqr = q3 - q1\n",
    "    lower_bound = q1 - k * iqr\n",
    "    return s.apply(lambda x: max([lower_bound - x, 0]))"
   ]
  },
  {
   "cell_type": "code",
   "execution_count": 9,
   "id": "21583ddb",
   "metadata": {},
   "outputs": [],
   "source": [
    "curr_df = pd.DataFrame()\n",
    "k=1.5"
   ]
  },
  {
   "cell_type": "code",
   "execution_count": 10,
   "id": "943ae346",
   "metadata": {},
   "outputs": [],
   "source": [
    "for col in df.select_dtypes('number'):\n",
    "        curr_df[col + '_lower_outliers'] = get_lower_outliers(df[col], k)"
   ]
  },
  {
   "cell_type": "code",
   "execution_count": 11,
   "id": "6bfa80c2",
   "metadata": {},
   "outputs": [],
   "source": [
    "for col in df.select_dtypes('number'):\n",
    "        curr_df[col + '_upper_outliers'] = get_upper_outliers(df[col], k)"
   ]
  },
  {
   "cell_type": "markdown",
   "id": "5125c5dc",
   "metadata": {},
   "source": [
    "### Rename Columns"
   ]
  },
  {
   "cell_type": "code",
   "execution_count": 12,
   "id": "21bcaf3b",
   "metadata": {},
   "outputs": [
    {
     "name": "stdout",
     "output_type": "stream",
     "text": [
      "parcel_id\n",
      "id\n",
      "bathroom_cnt\n",
      "bedroom_cnt\n",
      "calculated_bath_n_br\n",
      "calculated_finished_square_feet\n",
      "finished_square_feet_12\n",
      "fips\n",
      "full_bath_cnt\n",
      "latitude\n",
      "longitude\n",
      "lot_size_square_feet\n",
      "property_county_land_use_code\n",
      "property_land_use_type_id\n",
      "raw_census_tract_and_block\n",
      "region_id_city\n",
      "region_id_county\n",
      "region_id_zip\n",
      "room_cnt\n",
      "year_built\n",
      "structure_tax_value_dollar_cnt\n",
      "tax_value_dollar_cnt\n",
      "assessment_year\n",
      "land_tax_value_dollar_cnt\n",
      "tax_amount\n",
      "census_tract_and_block\n",
      "id_1\n",
      "log_error\n",
      "transaction_date\n"
     ]
    }
   ],
   "source": [
    "for column in df.columns:\n",
    "    print((\"_\".join(wordninja.split(column))))"
   ]
  },
  {
   "cell_type": "markdown",
   "id": "761f20b5",
   "metadata": {},
   "source": [
    "# Get Dummies"
   ]
  },
  {
   "cell_type": "markdown",
   "id": "6f2242cd",
   "metadata": {},
   "source": [
    "### Categorical Columns"
   ]
  },
  {
   "cell_type": "code",
   "execution_count": 13,
   "id": "b42f73e8",
   "metadata": {},
   "outputs": [],
   "source": [
    "num,cat=separate_column_type_list(df)"
   ]
  },
  {
   "cell_type": "code",
   "execution_count": 14,
   "id": "b949bd02",
   "metadata": {
    "scrolled": true
   },
   "outputs": [
    {
     "name": "stdout",
     "output_type": "stream",
     "text": [
      "Discrete: propertycountylandusecode = 22\n",
      "Discrete:     propertylandusetypeid = 1\n",
      "Discrete:            regionidcounty = 3\n",
      "Discrete:           transactiondate = 257\n"
     ]
    }
   ],
   "source": [
    "longest_column_name = max([len(i) for i in cat])\n",
    "for i in cat:\n",
    "    print(f\"Discrete: {i:>{longest_column_name}} = {df[i].nunique()}\")"
   ]
  },
  {
   "cell_type": "markdown",
   "id": "f8f36e24",
   "metadata": {},
   "source": [
    "# Split Data"
   ]
  },
  {
   "cell_type": "code",
   "execution_count": 18,
   "id": "3cb4f6e2",
   "metadata": {},
   "outputs": [
    {
     "data": {
      "text/plain": [
       "Index(['parcelid', 'id', 'bathroomcnt', 'bedroomcnt', 'calculatedbathnbr',\n",
       "       'calculatedfinishedsquarefeet', 'finishedsquarefeet12', 'fips',\n",
       "       'fullbathcnt', 'latitude', 'longitude', 'lotsizesquarefeet',\n",
       "       'propertycountylandusecode', 'propertylandusetypeid',\n",
       "       'rawcensustractandblock', 'regionidcity', 'regionidcounty',\n",
       "       'regionidzip', 'roomcnt', 'yearbuilt', 'structuretaxvaluedollarcnt',\n",
       "       'taxvaluedollarcnt', 'assessmentyear', 'landtaxvaluedollarcnt',\n",
       "       'taxamount', 'censustractandblock', 'id.1', 'logerror',\n",
       "       'transactiondate'],\n",
       "      dtype='object')"
      ]
     },
     "execution_count": 18,
     "metadata": {},
     "output_type": "execute_result"
    }
   ],
   "source": [
    "train.columns"
   ]
  },
  {
   "cell_type": "code",
   "execution_count": 15,
   "id": "f2a959b2",
   "metadata": {},
   "outputs": [],
   "source": [
    "train,val,test = split_data(df)"
   ]
  },
  {
   "cell_type": "code",
   "execution_count": 19,
   "id": "d4b44523",
   "metadata": {},
   "outputs": [],
   "source": [
    "X_train,y_train = isolate_target(train,target='structuretaxvaluedollarcnt')"
   ]
  },
  {
   "cell_type": "code",
   "execution_count": 25,
   "id": "1bdc58da",
   "metadata": {},
   "outputs": [],
   "source": [
    "num,cat = separate_column_type_list(df)"
   ]
  },
  {
   "cell_type": "code",
   "execution_count": 37,
   "id": "d8a98f12",
   "metadata": {},
   "outputs": [
    {
     "data": {
      "text/plain": [
       "['propertycountylandusecode',\n",
       " 'propertylandusetypeid',\n",
       " 'regionidcounty',\n",
       " 'transactiondate']"
      ]
     },
     "execution_count": 37,
     "metadata": {},
     "output_type": "execute_result"
    }
   ],
   "source": [
    "cat"
   ]
  },
  {
   "cell_type": "code",
   "execution_count": 36,
   "id": "6cc22f22",
   "metadata": {},
   "outputs": [],
   "source": [
    "def unique_id_columns(df):\n",
    "    unique_ids = []\n",
    "    for col in df.columns:\n",
    "        unique_count = df[col].nunique()\n",
    "        if unique_count/len(df) > 0.99:\n",
    "            unique_ids.append(col)\n",
    "    return unique_ids"
   ]
  },
  {
   "cell_type": "code",
   "execution_count": 40,
   "id": "a8faab2e",
   "metadata": {},
   "outputs": [],
   "source": [
    "unique_columns_list = unique_id_columns(df[num])"
   ]
  },
  {
   "cell_type": "code",
   "execution_count": 41,
   "id": "916b0947",
   "metadata": {},
   "outputs": [
    {
     "name": "stdout",
     "output_type": "stream",
     "text": [
      "Unique: parcelid = 50560\n",
      "Unique:       id = 50560\n",
      "Unique:     id.1 = 50673\n",
      "Unique: logerror = 50428\n"
     ]
    }
   ],
   "source": [
    "longest_column_name = max([len(i) for i in unique_columns_list])\n",
    "for i in unique_columns_list:\n",
    "    print(f\"Unique: {i:>{longest_column_name}} = {df[i].nunique()}\")"
   ]
  },
  {
   "cell_type": "code",
   "execution_count": 35,
   "id": "6eac2194",
   "metadata": {},
   "outputs": [
    {
     "data": {
      "text/plain": [
       "0.9977700155901565"
      ]
     },
     "execution_count": 35,
     "metadata": {},
     "output_type": "execute_result"
    }
   ],
   "source": [
    "df['parcelid'].nunique()/df.shape[0]"
   ]
  },
  {
   "cell_type": "code",
   "execution_count": 32,
   "id": "62212f99",
   "metadata": {},
   "outputs": [
    {
     "data": {
      "text/plain": [
       "0.002229984409843455"
      ]
     },
     "execution_count": 32,
     "metadata": {},
     "output_type": "execute_result"
    }
   ],
   "source": [
    "1-(df['parcelid'].nunique()/df.shape[0])"
   ]
  },
  {
   "cell_type": "code",
   "execution_count": 24,
   "id": "b15315f9",
   "metadata": {
    "scrolled": true
   },
   "outputs": [
    {
     "data": {
      "text/plain": [
       "array([[1.72664626e-03, 3.25773917e-01, 0.00000000e+00, ...,\n",
       "        5.18124899e-06, 7.98020925e-01, 4.16528026e-01],\n",
       "       [7.91690428e-04, 6.90692068e-01, 0.00000000e+00, ...,\n",
       "        6.26817229e-07, 6.82871205e-01, 4.04646269e-01],\n",
       "       [2.47778598e-02, 9.94360201e-01, 1.25000000e-01, ...,\n",
       "        5.18880190e-04, 4.71112715e-01, 4.16892059e-01],\n",
       "       ...,\n",
       "       [9.54228872e-03, 1.77143405e-01, 0.00000000e+00, ...,\n",
       "        8.52677976e-06, 7.51713653e-01, 4.00989286e-01],\n",
       "       [2.98069141e-03, 9.59221877e-02, 1.66666667e-01, ...,\n",
       "        1.93825523e-05, 1.70849869e-02, 4.25452619e-01],\n",
       "       [6.28128003e-03, 4.91598823e-01, 5.00000000e-01, ...,\n",
       "        3.81847221e-06, 3.14423027e-01, 4.20570326e-01]])"
      ]
     },
     "execution_count": 24,
     "metadata": {},
     "output_type": "execute_result"
    }
   ],
   "source": [
    "scale_data(X_train)"
   ]
  },
  {
   "cell_type": "markdown",
   "id": "674667ea",
   "metadata": {},
   "source": [
    "### Visualize"
   ]
  },
  {
   "cell_type": "code",
   "execution_count": null,
   "id": "3d2d442c",
   "metadata": {},
   "outputs": [],
   "source": [
    "for col in cat:\n",
    "    if (df[col].nunique()<=10) & (df[col].nunique()>1):\n",
    "        sns.histplot(df[col])\n",
    "        plt.show()"
   ]
  }
 ],
 "metadata": {
  "kernelspec": {
   "display_name": "Python 3 (ipykernel)",
   "language": "python",
   "name": "python3"
  },
  "language_info": {
   "codemirror_mode": {
    "name": "ipython",
    "version": 3
   },
   "file_extension": ".py",
   "mimetype": "text/x-python",
   "name": "python",
   "nbconvert_exporter": "python",
   "pygments_lexer": "ipython3",
   "version": "3.9.15"
  }
 },
 "nbformat": 4,
 "nbformat_minor": 5
}
