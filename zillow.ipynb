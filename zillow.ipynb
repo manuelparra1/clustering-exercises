{
 "cells": [
  {
   "cell_type": "code",
   "execution_count": 1,
   "id": "a01ef62c",
   "metadata": {},
   "outputs": [],
   "source": [
    "import numpy as np\n",
    "import pandas as pd\n",
    "\n",
    "from wrangle import *\n",
    "from env import *"
   ]
  },
  {
   "cell_type": "code",
   "execution_count": 108,
   "id": "70f18ad2",
   "metadata": {},
   "outputs": [
    {
     "name": "stdout",
     "output_type": "stream",
     "text": [
      "Reading CSV\n"
     ]
    }
   ],
   "source": [
    "sql_db = \"zillow\"\n",
    "query = \"SELECT * FROM properties_2017 JOIN predictions_2017 USING(parcelid) WHERE (`propertylandusetypeid` = 261) & (YEAR(`transactiondate`) = 2017);\"\n",
    "df = get_data(sql_db,query)"
   ]
  },
  {
   "cell_type": "code",
   "execution_count": 91,
   "id": "4d3ada3a",
   "metadata": {},
   "outputs": [],
   "source": [
    "def summary(df):\n",
    "    # saving output of .isnull().sum() to a DataFrame\n",
    "    null_count = df.isnull().sum().reset_index(name='count')\n",
    "    \n",
    "    # setting a name to columns in new DataFrame\n",
    "    null_count.columns = ['column_name', 'num_rows_missing']\n",
    "\n",
    "    # total count of nulls in DataFrame\n",
    "    total_count = df.shape[0]\n",
    "    \n",
    "    # creating column 'pct_row_missing' with calculated percent value \n",
    "    # using null_count and total_count\n",
    "    null_count['pct_rows_missing'] = (null_count['num_rows_missing']/total_count)\n",
    "    \n",
    "    #return null_count[null_count['num_rows_missing']!=0]\n",
    "    return null_count"
   ]
  },
  {
   "cell_type": "code",
   "execution_count": 93,
   "id": "fb37f770",
   "metadata": {},
   "outputs": [
    {
     "data": {
      "text/html": [
       "<div>\n",
       "<style scoped>\n",
       "    .dataframe tbody tr th:only-of-type {\n",
       "        vertical-align: middle;\n",
       "    }\n",
       "\n",
       "    .dataframe tbody tr th {\n",
       "        vertical-align: top;\n",
       "    }\n",
       "\n",
       "    .dataframe thead th {\n",
       "        text-align: right;\n",
       "    }\n",
       "</style>\n",
       "<table border=\"1\" class=\"dataframe\">\n",
       "  <thead>\n",
       "    <tr style=\"text-align: right;\">\n",
       "      <th></th>\n",
       "      <th>column_name</th>\n",
       "      <th>num_rows_missing</th>\n",
       "      <th>pct_rows_missing</th>\n",
       "    </tr>\n",
       "  </thead>\n",
       "  <tbody>\n",
       "    <tr>\n",
       "      <th>14</th>\n",
       "      <td>finishedsquarefeet13</td>\n",
       "      <td>52441</td>\n",
       "      <td>1.000000</td>\n",
       "    </tr>\n",
       "    <tr>\n",
       "      <th>7</th>\n",
       "      <td>buildingclasstypeid</td>\n",
       "      <td>52441</td>\n",
       "      <td>1.000000</td>\n",
       "    </tr>\n",
       "    <tr>\n",
       "      <th>15</th>\n",
       "      <td>finishedsquarefeet15</td>\n",
       "      <td>52441</td>\n",
       "      <td>1.000000</td>\n",
       "    </tr>\n",
       "    <tr>\n",
       "      <th>4</th>\n",
       "      <td>basementsqft</td>\n",
       "      <td>52394</td>\n",
       "      <td>0.999104</td>\n",
       "    </tr>\n",
       "    <tr>\n",
       "      <th>42</th>\n",
       "      <td>storytypeid</td>\n",
       "      <td>52394</td>\n",
       "      <td>0.999104</td>\n",
       "    </tr>\n",
       "    <tr>\n",
       "      <th>...</th>\n",
       "      <td>...</td>\n",
       "      <td>...</td>\n",
       "      <td>...</td>\n",
       "    </tr>\n",
       "    <tr>\n",
       "      <th>25</th>\n",
       "      <td>latitude</td>\n",
       "      <td>0</td>\n",
       "      <td>0.000000</td>\n",
       "    </tr>\n",
       "    <tr>\n",
       "      <th>18</th>\n",
       "      <td>fips</td>\n",
       "      <td>0</td>\n",
       "      <td>0.000000</td>\n",
       "    </tr>\n",
       "    <tr>\n",
       "      <th>6</th>\n",
       "      <td>bedroomcnt</td>\n",
       "      <td>0</td>\n",
       "      <td>0.000000</td>\n",
       "    </tr>\n",
       "    <tr>\n",
       "      <th>5</th>\n",
       "      <td>bathroomcnt</td>\n",
       "      <td>0</td>\n",
       "      <td>0.000000</td>\n",
       "    </tr>\n",
       "    <tr>\n",
       "      <th>61</th>\n",
       "      <td>transactiondate</td>\n",
       "      <td>0</td>\n",
       "      <td>0.000000</td>\n",
       "    </tr>\n",
       "  </tbody>\n",
       "</table>\n",
       "<p>62 rows × 3 columns</p>\n",
       "</div>"
      ],
      "text/plain": [
       "             column_name  num_rows_missing  pct_rows_missing\n",
       "14  finishedsquarefeet13             52441          1.000000\n",
       "7    buildingclasstypeid             52441          1.000000\n",
       "15  finishedsquarefeet15             52441          1.000000\n",
       "4           basementsqft             52394          0.999104\n",
       "42           storytypeid             52394          0.999104\n",
       "..                   ...               ...               ...\n",
       "25              latitude                 0          0.000000\n",
       "18                  fips                 0          0.000000\n",
       "6             bedroomcnt                 0          0.000000\n",
       "5            bathroomcnt                 0          0.000000\n",
       "61       transactiondate                 0          0.000000\n",
       "\n",
       "[62 rows x 3 columns]"
      ]
     },
     "execution_count": 93,
     "metadata": {},
     "output_type": "execute_result"
    }
   ],
   "source": [
    "summarized_df = summary(df)\n",
    "summarized_df.sort_values(by=['pct_rows_missing'],ascending=False)"
   ]
  },
  {
   "cell_type": "code",
   "execution_count": 94,
   "id": "3b065906",
   "metadata": {},
   "outputs": [],
   "source": [
    "def separate_columns_list(df):\n",
    "    '''\n",
    "        Creates 2 lists separating continous & discrete\n",
    "        variables.\n",
    "        \n",
    "        Parameters\n",
    "        ----------\n",
    "        df : Pandas DataFrame\n",
    "            The DataFrame from which columns will be sorted.\n",
    "        \n",
    "        Returns\n",
    "        ----------\n",
    "        continuous_columns : list\n",
    "            Columns in DataFrame with numerical values.\n",
    "        discrete_columns : list\n",
    "            Columns in DataFrame with categorical values.\n",
    "    '''\n",
    "    continuous_columns = []\n",
    "    discrete_columns = []\n",
    "    \n",
    "    for column in df.columns:\n",
    "        if (df[column].dtype == 'int' or df[column].dtype == 'float') and ('id' not in column):\n",
    "            continuous_columns.append(column)\n",
    "        elif(df[column].dtype == 'int' or df[column].dtype == 'float') and ('id' in column):\n",
    "            discrete_columns.append(column)\n",
    "        else:\n",
    "            discrete_columns.append(column)\n",
    "\n",
    "    return continuous_columns, discrete_columns"
   ]
  },
  {
   "cell_type": "code",
   "execution_count": 95,
   "id": "dda795d6",
   "metadata": {},
   "outputs": [],
   "source": [
    "continuous_columns, discrete_columns = separate_columns_list(df)"
   ]
  },
  {
   "cell_type": "code",
   "execution_count": 96,
   "id": "c731a865",
   "metadata": {},
   "outputs": [
    {
     "data": {
      "text/plain": [
       "0.6370587898781488"
      ]
     },
     "execution_count": 96,
     "metadata": {},
     "output_type": "execute_result"
    }
   ],
   "source": [
    "df['regionidneighborhood'].isnull().mean()"
   ]
  },
  {
   "cell_type": "code",
   "execution_count": 97,
   "id": "b6f1d211",
   "metadata": {},
   "outputs": [
    {
     "data": {
      "text/plain": [
       "0.3629412101218512"
      ]
     },
     "execution_count": 97,
     "metadata": {},
     "output_type": "execute_result"
    }
   ],
   "source": [
    "df['regionidneighborhood'].notnull().mean()"
   ]
  },
  {
   "cell_type": "code",
   "execution_count": 98,
   "id": "06436f6a",
   "metadata": {},
   "outputs": [],
   "source": [
    "def handle_missing_values(df, prop_required_column, prop_required_row):\n",
    "    '''\n",
    "        Drops columns and rows in a Pandas DataFrame if they have a proportion\n",
    "        of null values less than the required cutoffs.\n",
    "\n",
    "        Parameters\n",
    "        ----------\n",
    "        df : Pandas DataFrame\n",
    "            The DataFrame from which null values are to be dropped.\n",
    "        prop_required_column : float\n",
    "            The proportion of null values required for a column to be dropped.\n",
    "        row_cutoff : float\n",
    "            The proportion of null values required for a row to be dropped.\n",
    "\n",
    "        Returns\n",
    "        ----------\n",
    "        df : Pandas DataFrame\n",
    "            The DataFrame with columns and rows with null values dropped.\n",
    "    '''\n",
    "    \n",
    "    # Drop columns with a proportion of null values greater than col_cutoff\n",
    "    cols_to_drop = [col for col in df.columns if df[col].notnull().mean() < prop_required_column]\n",
    "    df.drop(columns=cols_to_drop, inplace=True)\n",
    "\n",
    "    # Drop rows with a proportion of null values greater than row_cutoff\n",
    "    rows_to_drop = [row for row in df.index if df.loc[row].notnull().mean() < prop_required_row]\n",
    "    df.drop(index=rows_to_drop, inplace=True)\n",
    "\n",
    "    # Return the new DataFrame\n",
    "    return df"
   ]
  },
  {
   "cell_type": "code",
   "execution_count": 99,
   "id": "1084e363",
   "metadata": {},
   "outputs": [],
   "source": [
    "df_handled = handle_missing_values(df,.65,.97)"
   ]
  },
  {
   "cell_type": "code",
   "execution_count": 100,
   "id": "2f8d4968",
   "metadata": {},
   "outputs": [
    {
     "data": {
      "text/html": [
       "<div>\n",
       "<style scoped>\n",
       "    .dataframe tbody tr th:only-of-type {\n",
       "        vertical-align: middle;\n",
       "    }\n",
       "\n",
       "    .dataframe tbody tr th {\n",
       "        vertical-align: top;\n",
       "    }\n",
       "\n",
       "    .dataframe thead th {\n",
       "        text-align: right;\n",
       "    }\n",
       "</style>\n",
       "<table border=\"1\" class=\"dataframe\">\n",
       "  <thead>\n",
       "    <tr style=\"text-align: right;\">\n",
       "      <th></th>\n",
       "      <th>column_name</th>\n",
       "      <th>num_rows_missing</th>\n",
       "      <th>pct_rows_missing</th>\n",
       "    </tr>\n",
       "  </thead>\n",
       "  <tbody>\n",
       "    <tr>\n",
       "      <th>0</th>\n",
       "      <td>parcelid</td>\n",
       "      <td>0</td>\n",
       "      <td>0.0</td>\n",
       "    </tr>\n",
       "    <tr>\n",
       "      <th>1</th>\n",
       "      <td>id</td>\n",
       "      <td>0</td>\n",
       "      <td>0.0</td>\n",
       "    </tr>\n",
       "    <tr>\n",
       "      <th>2</th>\n",
       "      <td>bathroomcnt</td>\n",
       "      <td>0</td>\n",
       "      <td>0.0</td>\n",
       "    </tr>\n",
       "    <tr>\n",
       "      <th>3</th>\n",
       "      <td>bedroomcnt</td>\n",
       "      <td>0</td>\n",
       "      <td>0.0</td>\n",
       "    </tr>\n",
       "    <tr>\n",
       "      <th>4</th>\n",
       "      <td>calculatedbathnbr</td>\n",
       "      <td>0</td>\n",
       "      <td>0.0</td>\n",
       "    </tr>\n",
       "    <tr>\n",
       "      <th>5</th>\n",
       "      <td>calculatedfinishedsquarefeet</td>\n",
       "      <td>0</td>\n",
       "      <td>0.0</td>\n",
       "    </tr>\n",
       "    <tr>\n",
       "      <th>6</th>\n",
       "      <td>finishedsquarefeet12</td>\n",
       "      <td>0</td>\n",
       "      <td>0.0</td>\n",
       "    </tr>\n",
       "    <tr>\n",
       "      <th>7</th>\n",
       "      <td>fips</td>\n",
       "      <td>0</td>\n",
       "      <td>0.0</td>\n",
       "    </tr>\n",
       "    <tr>\n",
       "      <th>8</th>\n",
       "      <td>fullbathcnt</td>\n",
       "      <td>0</td>\n",
       "      <td>0.0</td>\n",
       "    </tr>\n",
       "    <tr>\n",
       "      <th>9</th>\n",
       "      <td>latitude</td>\n",
       "      <td>0</td>\n",
       "      <td>0.0</td>\n",
       "    </tr>\n",
       "    <tr>\n",
       "      <th>10</th>\n",
       "      <td>longitude</td>\n",
       "      <td>0</td>\n",
       "      <td>0.0</td>\n",
       "    </tr>\n",
       "    <tr>\n",
       "      <th>11</th>\n",
       "      <td>lotsizesquarefeet</td>\n",
       "      <td>0</td>\n",
       "      <td>0.0</td>\n",
       "    </tr>\n",
       "    <tr>\n",
       "      <th>12</th>\n",
       "      <td>propertycountylandusecode</td>\n",
       "      <td>0</td>\n",
       "      <td>0.0</td>\n",
       "    </tr>\n",
       "    <tr>\n",
       "      <th>13</th>\n",
       "      <td>propertylandusetypeid</td>\n",
       "      <td>0</td>\n",
       "      <td>0.0</td>\n",
       "    </tr>\n",
       "    <tr>\n",
       "      <th>14</th>\n",
       "      <td>rawcensustractandblock</td>\n",
       "      <td>0</td>\n",
       "      <td>0.0</td>\n",
       "    </tr>\n",
       "    <tr>\n",
       "      <th>15</th>\n",
       "      <td>regionidcity</td>\n",
       "      <td>0</td>\n",
       "      <td>0.0</td>\n",
       "    </tr>\n",
       "    <tr>\n",
       "      <th>16</th>\n",
       "      <td>regionidcounty</td>\n",
       "      <td>0</td>\n",
       "      <td>0.0</td>\n",
       "    </tr>\n",
       "    <tr>\n",
       "      <th>17</th>\n",
       "      <td>regionidzip</td>\n",
       "      <td>0</td>\n",
       "      <td>0.0</td>\n",
       "    </tr>\n",
       "    <tr>\n",
       "      <th>18</th>\n",
       "      <td>roomcnt</td>\n",
       "      <td>0</td>\n",
       "      <td>0.0</td>\n",
       "    </tr>\n",
       "    <tr>\n",
       "      <th>19</th>\n",
       "      <td>yearbuilt</td>\n",
       "      <td>0</td>\n",
       "      <td>0.0</td>\n",
       "    </tr>\n",
       "    <tr>\n",
       "      <th>20</th>\n",
       "      <td>structuretaxvaluedollarcnt</td>\n",
       "      <td>0</td>\n",
       "      <td>0.0</td>\n",
       "    </tr>\n",
       "    <tr>\n",
       "      <th>21</th>\n",
       "      <td>taxvaluedollarcnt</td>\n",
       "      <td>0</td>\n",
       "      <td>0.0</td>\n",
       "    </tr>\n",
       "    <tr>\n",
       "      <th>22</th>\n",
       "      <td>assessmentyear</td>\n",
       "      <td>0</td>\n",
       "      <td>0.0</td>\n",
       "    </tr>\n",
       "    <tr>\n",
       "      <th>23</th>\n",
       "      <td>landtaxvaluedollarcnt</td>\n",
       "      <td>0</td>\n",
       "      <td>0.0</td>\n",
       "    </tr>\n",
       "    <tr>\n",
       "      <th>24</th>\n",
       "      <td>taxamount</td>\n",
       "      <td>0</td>\n",
       "      <td>0.0</td>\n",
       "    </tr>\n",
       "    <tr>\n",
       "      <th>25</th>\n",
       "      <td>censustractandblock</td>\n",
       "      <td>0</td>\n",
       "      <td>0.0</td>\n",
       "    </tr>\n",
       "    <tr>\n",
       "      <th>26</th>\n",
       "      <td>id.1</td>\n",
       "      <td>0</td>\n",
       "      <td>0.0</td>\n",
       "    </tr>\n",
       "    <tr>\n",
       "      <th>27</th>\n",
       "      <td>logerror</td>\n",
       "      <td>0</td>\n",
       "      <td>0.0</td>\n",
       "    </tr>\n",
       "    <tr>\n",
       "      <th>28</th>\n",
       "      <td>transactiondate</td>\n",
       "      <td>0</td>\n",
       "      <td>0.0</td>\n",
       "    </tr>\n",
       "  </tbody>\n",
       "</table>\n",
       "</div>"
      ],
      "text/plain": [
       "                     column_name  num_rows_missing  pct_rows_missing\n",
       "0                       parcelid                 0               0.0\n",
       "1                             id                 0               0.0\n",
       "2                    bathroomcnt                 0               0.0\n",
       "3                     bedroomcnt                 0               0.0\n",
       "4              calculatedbathnbr                 0               0.0\n",
       "5   calculatedfinishedsquarefeet                 0               0.0\n",
       "6           finishedsquarefeet12                 0               0.0\n",
       "7                           fips                 0               0.0\n",
       "8                    fullbathcnt                 0               0.0\n",
       "9                       latitude                 0               0.0\n",
       "10                     longitude                 0               0.0\n",
       "11             lotsizesquarefeet                 0               0.0\n",
       "12     propertycountylandusecode                 0               0.0\n",
       "13         propertylandusetypeid                 0               0.0\n",
       "14        rawcensustractandblock                 0               0.0\n",
       "15                  regionidcity                 0               0.0\n",
       "16                regionidcounty                 0               0.0\n",
       "17                   regionidzip                 0               0.0\n",
       "18                       roomcnt                 0               0.0\n",
       "19                     yearbuilt                 0               0.0\n",
       "20    structuretaxvaluedollarcnt                 0               0.0\n",
       "21             taxvaluedollarcnt                 0               0.0\n",
       "22                assessmentyear                 0               0.0\n",
       "23         landtaxvaluedollarcnt                 0               0.0\n",
       "24                     taxamount                 0               0.0\n",
       "25           censustractandblock                 0               0.0\n",
       "26                          id.1                 0               0.0\n",
       "27                      logerror                 0               0.0\n",
       "28               transactiondate                 0               0.0"
      ]
     },
     "execution_count": 100,
     "metadata": {},
     "output_type": "execute_result"
    }
   ],
   "source": [
    "summary(df_handled)"
   ]
  },
  {
   "cell_type": "code",
   "execution_count": 124,
   "id": "e22b8347",
   "metadata": {},
   "outputs": [
    {
     "data": {
      "text/plain": [
       "parcelid                        0\n",
       "id                              0\n",
       "bathroomcnt                     0\n",
       "bedroomcnt                      0\n",
       "calculatedbathnbr               0\n",
       "calculatedfinishedsquarefeet    0\n",
       "finishedsquarefeet12            0\n",
       "fips                            0\n",
       "fullbathcnt                     0\n",
       "latitude                        0\n",
       "longitude                       0\n",
       "lotsizesquarefeet               0\n",
       "propertycountylandusecode       0\n",
       "propertylandusetypeid           0\n",
       "rawcensustractandblock          0\n",
       "regionidcity                    0\n",
       "regionidcounty                  0\n",
       "regionidzip                     0\n",
       "roomcnt                         0\n",
       "yearbuilt                       0\n",
       "structuretaxvaluedollarcnt      0\n",
       "taxvaluedollarcnt               0\n",
       "assessmentyear                  0\n",
       "landtaxvaluedollarcnt           0\n",
       "taxamount                       0\n",
       "censustractandblock             0\n",
       "id.1                            0\n",
       "logerror                        0\n",
       "transactiondate                 0\n",
       "dtype: int64"
      ]
     },
     "execution_count": 124,
     "metadata": {},
     "output_type": "execute_result"
    }
   ],
   "source": [
    "df_handled.isnull().sum()"
   ]
  },
  {
   "cell_type": "code",
   "execution_count": 11,
   "id": "345f8c63",
   "metadata": {},
   "outputs": [],
   "source": [
    "def handle_outliers(df):\n",
    "    return 0"
   ]
  },
  {
   "cell_type": "code",
   "execution_count": 129,
   "id": "26526ac3",
   "metadata": {},
   "outputs": [],
   "source": [
    "def all_outliers(df):\n",
    "\n",
    "    # calculate interquartile range\n",
    "    Q1 = df.quantile(0.25)\n",
    "    Q3 = df.quantile(0.75)\n",
    "    IQR = Q3 - Q1\n",
    "\n",
    "    # detect outliers\n",
    "    outliers = (df < (Q1 - 1.5 * IQR)) | (df > (Q3 + 1.5 * IQR))\n",
    "\n",
    "    return outliers"
   ]
  },
  {
   "cell_type": "code",
   "execution_count": 130,
   "id": "40148bc9",
   "metadata": {},
   "outputs": [
    {
     "name": "stderr",
     "output_type": "stream",
     "text": [
      "/var/folders/_r/wftd7dk93nj_hbzpqfw4vnsr0000gn/T/ipykernel_20491/2159177179.py:9: FutureWarning: Automatic reindexing on DataFrame vs Series comparisons is deprecated and will raise ValueError in a future version. Do `left, right = left.align(right, axis=1, copy=False)` before e.g. `left == right`\n",
      "  outliers = (df < (Q1 - 1.5 * IQR)) | (df > (Q3 + 1.5 * IQR))\n"
     ]
    }
   ],
   "source": [
    "outliers = all_outliers(df_handled)"
   ]
  },
  {
   "cell_type": "code",
   "execution_count": 142,
   "id": "e56ff546",
   "metadata": {},
   "outputs": [
    {
     "name": "stdout",
     "output_type": "stream",
     "text": [
      "logerror                        6167\n",
      "lotsizesquarefeet               5414\n",
      "censustractandblock             4331\n",
      "rawcensustractandblock          4330\n",
      "fips                            4330\n",
      "structuretaxvaluedollarcnt      3815\n",
      "taxamount                       3698\n",
      "taxvaluedollarcnt               3441\n",
      "landtaxvaluedollarcnt           2863\n",
      "calculatedfinishedsquarefeet    2237\n",
      "finishedsquarefeet12            2237\n",
      "regionidcity                    1618\n",
      "bathroomcnt                     1456\n",
      "calculatedbathnbr               1456\n",
      "longitude                       1436\n",
      "fullbathcnt                     1434\n",
      "bedroomcnt                      1298\n",
      "yearbuilt                        279\n",
      "latitude                          35\n",
      "roomcnt                           15\n",
      "regionidzip                       11\n",
      "parcelid                           5\n",
      "dtype: int64\n"
     ]
    }
   ],
   "source": [
    "outliers_series = outliers.sum()\n",
    "print(outliers_series[outliers_series > 0].sort_values(ascending=False))"
   ]
  },
  {
   "cell_type": "code",
   "execution_count": 143,
   "id": "0c36e169",
   "metadata": {},
   "outputs": [],
   "source": [
    "def upper_outlier_detector(dataframe,column,k=1.5):\n",
    "    q1,q3 = dataframe[column].quantile([0.25,0.75])\n",
    "    iqr = q3-q1\n",
    "    upper_bound = q3+k*iqr\n",
    "    \n",
    "    return np.where(dataframe[column]>upper_bound,1,0)"
   ]
  },
  {
   "cell_type": "code",
   "execution_count": 161,
   "id": "f47282bc",
   "metadata": {},
   "outputs": [],
   "source": [
    "def lower_outlier_detector(dataframe,column,k=1.5):\n",
    "    q1,q3 = dataframe[column].quantile([0.25,0.75])\n",
    "    iqr = q3-q1\n",
    "    \n",
    "    lower_bound=q1-k*iqr\n",
    "\n",
    "    return np.where(dataframe[column]<lower_bound,1,0)"
   ]
  },
  {
   "cell_type": "markdown",
   "id": "fdd620af",
   "metadata": {},
   "source": [
    "# Test Upper Outliers"
   ]
  },
  {
   "cell_type": "code",
   "execution_count": 145,
   "id": "49977561",
   "metadata": {},
   "outputs": [
    {
     "data": {
      "text/plain": [
       "array([0, 0, 0, ..., 0, 0, 0])"
      ]
     },
     "execution_count": 145,
     "metadata": {},
     "output_type": "execute_result"
    }
   ],
   "source": [
    "upper_outlier_detector(df_handled,'bathroomcnt')"
   ]
  },
  {
   "cell_type": "code",
   "execution_count": 152,
   "id": "0da071e4",
   "metadata": {},
   "outputs": [],
   "source": [
    "test = pd.DataFrame()"
   ]
  },
  {
   "cell_type": "code",
   "execution_count": 154,
   "id": "10a1a011",
   "metadata": {
    "scrolled": true
   },
   "outputs": [
    {
     "data": {
      "text/html": [
       "<div>\n",
       "<style scoped>\n",
       "    .dataframe tbody tr th:only-of-type {\n",
       "        vertical-align: middle;\n",
       "    }\n",
       "\n",
       "    .dataframe tbody tr th {\n",
       "        vertical-align: top;\n",
       "    }\n",
       "\n",
       "    .dataframe thead th {\n",
       "        text-align: right;\n",
       "    }\n",
       "</style>\n",
       "<table border=\"1\" class=\"dataframe\">\n",
       "  <thead>\n",
       "    <tr style=\"text-align: right;\">\n",
       "      <th></th>\n",
       "      <th>roomcnt_upper_outliers</th>\n",
       "      <th>bathroomcnt_upper_outliers</th>\n",
       "    </tr>\n",
       "  </thead>\n",
       "  <tbody>\n",
       "    <tr>\n",
       "      <th>0</th>\n",
       "      <td>0</td>\n",
       "      <td>0</td>\n",
       "    </tr>\n",
       "    <tr>\n",
       "      <th>1</th>\n",
       "      <td>0</td>\n",
       "      <td>0</td>\n",
       "    </tr>\n",
       "    <tr>\n",
       "      <th>2</th>\n",
       "      <td>0</td>\n",
       "      <td>0</td>\n",
       "    </tr>\n",
       "    <tr>\n",
       "      <th>3</th>\n",
       "      <td>0</td>\n",
       "      <td>0</td>\n",
       "    </tr>\n",
       "    <tr>\n",
       "      <th>4</th>\n",
       "      <td>0</td>\n",
       "      <td>0</td>\n",
       "    </tr>\n",
       "  </tbody>\n",
       "</table>\n",
       "</div>"
      ],
      "text/plain": [
       "   roomcnt_upper_outliers  bathroomcnt_upper_outliers\n",
       "0                       0                           0\n",
       "1                       0                           0\n",
       "2                       0                           0\n",
       "3                       0                           0\n",
       "4                       0                           0"
      ]
     },
     "execution_count": 154,
     "metadata": {},
     "output_type": "execute_result"
    }
   ],
   "source": [
    "my_list = ['roomcnt','bathroomcnt']\n",
    "for col in my_list:\n",
    "    test[f'{col}_upper_outliers']=upper_outlier_detector(df_handled,col)\n",
    "test.head()"
   ]
  },
  {
   "cell_type": "code",
   "execution_count": 157,
   "id": "bc549aed",
   "metadata": {
    "scrolled": true
   },
   "outputs": [
    {
     "data": {
      "text/plain": [
       "roomcnt_upper_outliers          15\n",
       "bathroomcnt_upper_outliers    1456\n",
       "dtype: int64"
      ]
     },
     "execution_count": 157,
     "metadata": {},
     "output_type": "execute_result"
    }
   ],
   "source": [
    "test.sum()"
   ]
  },
  {
   "cell_type": "markdown",
   "id": "4d6513c0",
   "metadata": {},
   "source": [
    "# Testing Lower Outliers"
   ]
  },
  {
   "cell_type": "code",
   "execution_count": 162,
   "id": "a8b6b797",
   "metadata": {},
   "outputs": [
    {
     "data": {
      "text/plain": [
       "array([0, 0, 0, ..., 0, 0, 0])"
      ]
     },
     "execution_count": 162,
     "metadata": {},
     "output_type": "execute_result"
    }
   ],
   "source": [
    "lower_outlier_detector(df_handled,'bathroomcnt')"
   ]
  },
  {
   "cell_type": "code",
   "execution_count": 163,
   "id": "207bd501",
   "metadata": {},
   "outputs": [],
   "source": [
    "lower_outlier_test = pd.DataFrame()"
   ]
  },
  {
   "cell_type": "code",
   "execution_count": 165,
   "id": "a093bbd7",
   "metadata": {
    "scrolled": true
   },
   "outputs": [
    {
     "data": {
      "text/html": [
       "<div>\n",
       "<style scoped>\n",
       "    .dataframe tbody tr th:only-of-type {\n",
       "        vertical-align: middle;\n",
       "    }\n",
       "\n",
       "    .dataframe tbody tr th {\n",
       "        vertical-align: top;\n",
       "    }\n",
       "\n",
       "    .dataframe thead th {\n",
       "        text-align: right;\n",
       "    }\n",
       "</style>\n",
       "<table border=\"1\" class=\"dataframe\">\n",
       "  <thead>\n",
       "    <tr style=\"text-align: right;\">\n",
       "      <th></th>\n",
       "    </tr>\n",
       "  </thead>\n",
       "  <tbody>\n",
       "  </tbody>\n",
       "</table>\n",
       "</div>"
      ],
      "text/plain": [
       "Empty DataFrame\n",
       "Columns: []\n",
       "Index: []"
      ]
     },
     "execution_count": 165,
     "metadata": {},
     "output_type": "execute_result"
    }
   ],
   "source": [
    "my_list = ['roomcnt','bathroomcnt']\n",
    "for col in my_list:\n",
    "    test[f'{col}_upper_outliers']=lower_outlier_detector(df_handled,col)\n",
    "lower_outlier_test.head()"
   ]
  },
  {
   "cell_type": "code",
   "execution_count": 166,
   "id": "a898704e",
   "metadata": {
    "scrolled": true
   },
   "outputs": [
    {
     "data": {
      "text/plain": [
       "Series([], dtype: float64)"
      ]
     },
     "execution_count": 166,
     "metadata": {},
     "output_type": "execute_result"
    }
   ],
   "source": [
    "lower_outlier_test.sum()"
   ]
  },
  {
   "cell_type": "markdown",
   "id": "9cd27b22",
   "metadata": {},
   "source": [
    "<hr style=\"border:2px solid gray\">"
   ]
  },
  {
   "cell_type": "markdown",
   "id": "01ee9c06",
   "metadata": {},
   "source": [
    "# E X E R C I S E S"
   ]
  },
  {
   "cell_type": "markdown",
   "id": "84eda3af",
   "metadata": {},
   "source": [
    "# Zillow"
   ]
  },
  {
   "cell_type": "markdown",
   "id": "140f490a",
   "metadata": {},
   "source": [
    "## Acquire"
   ]
  },
  {
   "cell_type": "markdown",
   "id": "471e1bf9",
   "metadata": {},
   "source": [
    "#### 1. Acquire"
   ]
  },
  {
   "cell_type": "code",
   "execution_count": null,
   "id": "e0f5e63e",
   "metadata": {},
   "outputs": [],
   "source": []
  },
  {
   "cell_type": "markdown",
   "id": "cb151d5f",
   "metadata": {},
   "source": [
    "#### 1. Acquire"
   ]
  },
  {
   "cell_type": "code",
   "execution_count": null,
   "id": "c87f2b2e",
   "metadata": {},
   "outputs": [],
   "source": []
  },
  {
   "cell_type": "markdown",
   "id": "efb24984",
   "metadata": {},
   "source": [
    "## Acquire"
   ]
  },
  {
   "cell_type": "markdown",
   "id": "5c203ac9",
   "metadata": {},
   "source": [
    "#### 1. Acquire"
   ]
  },
  {
   "cell_type": "code",
   "execution_count": null,
   "id": "542aab14",
   "metadata": {},
   "outputs": [],
   "source": []
  },
  {
   "cell_type": "markdown",
   "id": "b5e451ee",
   "metadata": {},
   "source": [
    "#### 1. Acquire"
   ]
  },
  {
   "cell_type": "code",
   "execution_count": null,
   "id": "009787e9",
   "metadata": {},
   "outputs": [],
   "source": []
  }
 ],
 "metadata": {
  "kernelspec": {
   "display_name": "Python 3 (ipykernel)",
   "language": "python",
   "name": "python3"
  },
  "language_info": {
   "codemirror_mode": {
    "name": "ipython",
    "version": 3
   },
   "file_extension": ".py",
   "mimetype": "text/x-python",
   "name": "python",
   "nbconvert_exporter": "python",
   "pygments_lexer": "ipython3",
   "version": "3.9.15"
  }
 },
 "nbformat": 4,
 "nbformat_minor": 5
}
